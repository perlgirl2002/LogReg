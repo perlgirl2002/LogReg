{
 "cells": [
  {
   "cell_type": "code",
   "execution_count": 1,
   "metadata": {
    "collapsed": true
   },
   "outputs": [],
   "source": [
    "%matplotlib inline\n",
    "import numpy as np\n",
    "import pandas as pd\n",
    "import scipy\n",
    "import sklearn\n",
    "import matplotlib.pyplot as plt\n",
    "import seaborn as sns\n",
    "from sklearn import linear_model\n",
    "from sklearn.model_selection import train_test_split"
   ]
  },
  {
   "cell_type": "code",
   "execution_count": 2,
   "metadata": {},
   "outputs": [
    {
     "data": {
      "text/html": [
       "<div>\n",
       "<style>\n",
       "    .dataframe thead tr:only-child th {\n",
       "        text-align: right;\n",
       "    }\n",
       "\n",
       "    .dataframe thead th {\n",
       "        text-align: left;\n",
       "    }\n",
       "\n",
       "    .dataframe tbody tr th {\n",
       "        vertical-align: top;\n",
       "    }\n",
       "</style>\n",
       "<table border=\"1\" class=\"dataframe\">\n",
       "  <thead>\n",
       "    <tr style=\"text-align: right;\">\n",
       "      <th></th>\n",
       "      <th>City</th>\n",
       "      <th>Population</th>\n",
       "      <th>Violent</th>\n",
       "      <th>Murder</th>\n",
       "      <th>Rape1</th>\n",
       "      <th>Rape2</th>\n",
       "      <th>Robbery</th>\n",
       "      <th>AggAssault</th>\n",
       "      <th>PropertyCrime</th>\n",
       "      <th>Burglary</th>\n",
       "      <th>Larceny</th>\n",
       "      <th>Motor</th>\n",
       "      <th>Arson</th>\n",
       "    </tr>\n",
       "  </thead>\n",
       "  <tbody>\n",
       "    <tr>\n",
       "      <th>4</th>\n",
       "      <td>Adams Village</td>\n",
       "      <td>1,861</td>\n",
       "      <td>0</td>\n",
       "      <td>0</td>\n",
       "      <td>NaN</td>\n",
       "      <td>0</td>\n",
       "      <td>0</td>\n",
       "      <td>0</td>\n",
       "      <td>12</td>\n",
       "      <td>2</td>\n",
       "      <td>10</td>\n",
       "      <td>0</td>\n",
       "      <td>0</td>\n",
       "    </tr>\n",
       "    <tr>\n",
       "      <th>5</th>\n",
       "      <td>Addison Town and Village</td>\n",
       "      <td>2,577</td>\n",
       "      <td>3</td>\n",
       "      <td>0</td>\n",
       "      <td>NaN</td>\n",
       "      <td>0</td>\n",
       "      <td>0</td>\n",
       "      <td>3</td>\n",
       "      <td>24</td>\n",
       "      <td>3</td>\n",
       "      <td>20</td>\n",
       "      <td>1</td>\n",
       "      <td>0</td>\n",
       "    </tr>\n",
       "    <tr>\n",
       "      <th>6</th>\n",
       "      <td>Akron Village</td>\n",
       "      <td>2,846</td>\n",
       "      <td>3</td>\n",
       "      <td>0</td>\n",
       "      <td>NaN</td>\n",
       "      <td>0</td>\n",
       "      <td>0</td>\n",
       "      <td>3</td>\n",
       "      <td>16</td>\n",
       "      <td>1</td>\n",
       "      <td>15</td>\n",
       "      <td>0</td>\n",
       "      <td>0</td>\n",
       "    </tr>\n",
       "    <tr>\n",
       "      <th>7</th>\n",
       "      <td>Albany</td>\n",
       "      <td>97,956</td>\n",
       "      <td>791</td>\n",
       "      <td>8</td>\n",
       "      <td>NaN</td>\n",
       "      <td>30</td>\n",
       "      <td>227</td>\n",
       "      <td>526</td>\n",
       "      <td>4,090</td>\n",
       "      <td>705</td>\n",
       "      <td>3,243</td>\n",
       "      <td>142</td>\n",
       "      <td>NaN</td>\n",
       "    </tr>\n",
       "    <tr>\n",
       "      <th>8</th>\n",
       "      <td>Albion Village</td>\n",
       "      <td>6,388</td>\n",
       "      <td>23</td>\n",
       "      <td>0</td>\n",
       "      <td>NaN</td>\n",
       "      <td>3</td>\n",
       "      <td>4</td>\n",
       "      <td>16</td>\n",
       "      <td>223</td>\n",
       "      <td>53</td>\n",
       "      <td>165</td>\n",
       "      <td>5</td>\n",
       "      <td>NaN</td>\n",
       "    </tr>\n",
       "  </tbody>\n",
       "</table>\n",
       "</div>"
      ],
      "text/plain": [
       "                       City Population Violent Murder Rape1 Rape2 Robbery  \\\n",
       "4             Adams Village      1,861       0      0   NaN     0       0   \n",
       "5  Addison Town and Village      2,577       3      0   NaN     0       0   \n",
       "6             Akron Village      2,846       3      0   NaN     0       0   \n",
       "7                    Albany     97,956     791      8   NaN    30     227   \n",
       "8            Albion Village      6,388      23      0   NaN     3       4   \n",
       "\n",
       "  AggAssault PropertyCrime Burglary Larceny Motor Arson  \n",
       "4          0            12        2      10     0     0  \n",
       "5          3            24        3      20     1     0  \n",
       "6          3            16        1      15     0     0  \n",
       "7        526         4,090      705   3,243   142   NaN  \n",
       "8         16           223       53     165     5   NaN  "
      ]
     },
     "execution_count": 2,
     "metadata": {},
     "output_type": "execute_result"
    }
   ],
   "source": [
    "filepath = 'C:\\\\Users\\\\kim\\\\Downloads\\\\ny.csv'\n",
    "raw = pd.read_csv(filepath)\n",
    "\n",
    "# Remove the first 3 rows of the data as it's superfluous\n",
    "raw = raw[3:]\n",
    "\n",
    "# Set the columns to be the Oth row\n",
    "raw.columns = raw.iloc[0]\n",
    "\n",
    "# Drop the 0th row (effectively, we're really just saying, I want to keep everything BUT the 0th row)\n",
    "raw = raw[1:]\n",
    "raw.columns=['City','Population','Violent','Murder','Rape1','Rape2','Robbery','AggAssault','PropertyCrime','Burglary','Larceny','Motor','Arson']\n",
    "raw.head()"
   ]
  },
  {
   "cell_type": "markdown",
   "metadata": {},
   "source": [
    "This is the Linear Regression Model that we're trying to come up with:\n",
    "\n",
    "Propertycrime=α0 + α1.Population + α2Population2 + α3Murder + α4Robbery\n",
    "\n",
    "Let's look at the features:"
   ]
  },
  {
   "cell_type": "code",
   "execution_count": 3,
   "metadata": {},
   "outputs": [
    {
     "data": {
      "text/plain": [
       "0    302\n",
       "1     49\n",
       "Name: Murder_feature, dtype: int64"
      ]
     },
     "execution_count": 3,
     "metadata": {},
     "output_type": "execute_result"
    }
   ],
   "source": [
    "raw['Murder']= pd.to_numeric(raw['Murder'], errors='coerce')\n",
    "raw['Murder_feature'] = np.where(raw['Murder']>=1, 1, 0)\n",
    "raw['Murder_feature'].value_counts()"
   ]
  },
  {
   "cell_type": "code",
   "execution_count": 4,
   "metadata": {},
   "outputs": [
    {
     "data": {
      "text/plain": [
       "1    207\n",
       "0    144\n",
       "Name: Robbery_feature, dtype: int64"
      ]
     },
     "execution_count": 4,
     "metadata": {},
     "output_type": "execute_result"
    }
   ],
   "source": [
    "raw['Robbery'] = pd.to_numeric(raw['Robbery'], errors='coerce')\n",
    "raw['Robbery_feature'] = np.where(raw['Robbery']>=1, 1, 0)\n",
    "raw['Robbery_feature'].value_counts()"
   ]
  },
  {
   "cell_type": "code",
   "execution_count": 5,
   "metadata": {},
   "outputs": [
    {
     "data": {
      "text/plain": [
       "4     1,861\n",
       "5     2,577\n",
       "6     2,846\n",
       "7    97,956\n",
       "8     6,388\n",
       "Name: Population, dtype: object"
      ]
     },
     "execution_count": 5,
     "metadata": {},
     "output_type": "execute_result"
    }
   ],
   "source": [
    "raw['Population'].head()"
   ]
  },
  {
   "cell_type": "code",
   "execution_count": 6,
   "metadata": {
    "collapsed": true
   },
   "outputs": [],
   "source": [
    "raw['Population'] = raw['Population'].str.replace(' ', '')\n",
    "raw['Population'] = raw['Population'].str.replace(',', '')"
   ]
  },
  {
   "cell_type": "code",
   "execution_count": 7,
   "metadata": {
    "collapsed": true
   },
   "outputs": [],
   "source": [
    "raw['Population_3'] = pd.to_numeric(raw['Population'])\n",
    "raw['Population_2'] = raw['Population_3']*raw['Population_3']"
   ]
  },
  {
   "cell_type": "code",
   "execution_count": 8,
   "metadata": {},
   "outputs": [
    {
     "data": {
      "text/plain": [
       "4    3.463321e+06\n",
       "5    6.640929e+06\n",
       "6    8.099716e+06\n",
       "7    9.595378e+09\n",
       "8    4.080654e+07\n",
       "Name: Population_2, dtype: float64"
      ]
     },
     "execution_count": 8,
     "metadata": {},
     "output_type": "execute_result"
    }
   ],
   "source": [
    "raw['Population_2'].head()"
   ]
  },
  {
   "cell_type": "code",
   "execution_count": 9,
   "metadata": {
    "collapsed": true
   },
   "outputs": [],
   "source": [
    "raw['PropertyCrime'] = pd.to_numeric(raw['PropertyCrime'], errors='coerce')"
   ]
  },
  {
   "cell_type": "markdown",
   "metadata": {},
   "source": [
    "Now we have all of our features like ready to go!!!  Let's do some Linear Regression, hello!"
   ]
  },
  {
   "cell_type": "code",
   "execution_count": 10,
   "metadata": {
    "collapsed": true
   },
   "outputs": [],
   "source": [
    "my_cols = ['Population', 'Population_2', 'Robbery_feature', 'Murder']\n",
    "data = raw[my_cols].copy()\n",
    "data.fillna(0, inplace=True)\n",
    "X = data.as_matrix()\n",
    "y = raw['PropertyCrime'].fillna(0).as_matrix()"
   ]
  },
  {
   "cell_type": "code",
   "execution_count": 11,
   "metadata": {
    "collapsed": true
   },
   "outputs": [],
   "source": [
    "X_train, X_test, y_train, y_test = train_test_split(X, y, test_size=0.4, random_state=0)"
   ]
  },
  {
   "cell_type": "code",
   "execution_count": 12,
   "metadata": {},
   "outputs": [
    {
     "data": {
      "text/plain": [
       "(351, 4)"
      ]
     },
     "execution_count": 12,
     "metadata": {},
     "output_type": "execute_result"
    }
   ],
   "source": [
    "data.shape"
   ]
  },
  {
   "cell_type": "code",
   "execution_count": 13,
   "metadata": {},
   "outputs": [],
   "source": [
    "data = data.fillna(method='ffill')"
   ]
  },
  {
   "cell_type": "code",
   "execution_count": 14,
   "metadata": {
    "collapsed": true
   },
   "outputs": [],
   "source": [
    "data = data.apply(lambda x: pd.to_numeric(x,errors='ignore'))  "
   ]
  },
  {
   "cell_type": "code",
   "execution_count": 15,
   "metadata": {},
   "outputs": [
    {
     "name": "stdout",
     "output_type": "stream",
     "text": [
      "Coefficients: \n",
      " [  1.50273005e-04  -4.71092715e-12   2.00435423e+02  -2.90289302e+00]\n",
      "Intercept: \n",
      " 42.663182209\n"
     ]
    }
   ],
   "source": [
    "# Instantiate our model.\n",
    "regr = linear_model.LinearRegression()\n",
    "\n",
    "# Fit our model to our data.\n",
    "regr.fit(X_train, y_train)\n",
    "\n",
    "# Display the attributes we calculated.\n",
    "print('Coefficients: \\n', regr.coef_)\n",
    "print('Intercept: \\n', regr.intercept_)"
   ]
  },
  {
   "cell_type": "code",
   "execution_count": 16,
   "metadata": {},
   "outputs": [
    {
     "data": {
      "text/plain": [
       "0.21429588963278368"
      ]
     },
     "execution_count": 16,
     "metadata": {},
     "output_type": "execute_result"
    }
   ],
   "source": [
    "regr.score(X_train, y_train)"
   ]
  },
  {
   "cell_type": "code",
   "execution_count": 17,
   "metadata": {},
   "outputs": [
    {
     "data": {
      "text/plain": [
       "(210, 4)"
      ]
     },
     "execution_count": 17,
     "metadata": {},
     "output_type": "execute_result"
    }
   ],
   "source": [
    "X_train.shape"
   ]
  },
  {
   "cell_type": "code",
   "execution_count": 18,
   "metadata": {},
   "outputs": [
    {
     "data": {
      "text/plain": [
       "(351,)"
      ]
     },
     "execution_count": 18,
     "metadata": {},
     "output_type": "execute_result"
    }
   ],
   "source": [
    "x = data['Population_2']\n",
    "x.shape"
   ]
  },
  {
   "cell_type": "code",
   "execution_count": 19,
   "metadata": {
    "collapsed": true
   },
   "outputs": [],
   "source": [
    "y = raw['PropertyCrime']"
   ]
  },
  {
   "cell_type": "code",
   "execution_count": 20,
   "metadata": {},
   "outputs": [
    {
     "data": {
      "text/plain": [
       "<seaborn.axisgrid.FacetGrid at 0x2aa61f5d198>"
      ]
     },
     "execution_count": 20,
     "metadata": {},
     "output_type": "execute_result"
    },
    {
     "data": {
      "image/png": "[encoded data removed]",
      "text/plain": [
       "<matplotlib.figure.Figure at 0x2aa61f5d0b8>"
      ]
     },
     "metadata": {},
     "output_type": "display_data"
    }
   ],
   "source": [
    "raw['Population_2_log'] = raw['Population_2'].apply(np.log)\n",
    "sns.lmplot(x='Population_2_log', y='PropertyCrime', data=raw, y_jitter=0.1, x_jitter=0.1)"
   ]
  },
  {
   "cell_type": "code",
   "execution_count": 21,
   "metadata": {},
   "outputs": [
    {
     "data": {
      "text/plain": [
       "<seaborn.axisgrid.JointGrid at 0x2aa60ef60f0>"
      ]
     },
     "execution_count": 21,
     "metadata": {},
     "output_type": "execute_result"
    },
    {
     "data": {
      "image/png": "[encoded data removed]",
      "text/plain": [
       "<matplotlib.figure.Figure at 0x2aa61f56ef0>"
      ]
     },
     "metadata": {},
     "output_type": "display_data"
    }
   ],
   "source": [
    "sns.jointplot(x='Population_2_log', y='PropertyCrime', data=raw)"
   ]
  },
  {
   "cell_type": "code",
   "execution_count": 22,
   "metadata": {
    "collapsed": true
   },
   "outputs": [],
   "source": [
    "my_cols = ['Population_2_log']\n",
    "data = raw.dropna(subset=['Population_2_log','PropertyCrime'])\n",
    "X = raw[my_cols].as_matrix()\n",
    "y = raw['PropertyCrime'].as_matrix()"
   ]
  },
  {
   "cell_type": "code",
   "execution_count": 23,
   "metadata": {},
   "outputs": [
    {
     "name": "stdout",
     "output_type": "stream",
     "text": [
      "Coefficients: \n",
      " [  1.50273005e-04  -4.71092715e-12   2.00435423e+02  -2.90289302e+00]\n",
      "Intercept: \n",
      " 42.663182209\n"
     ]
    }
   ],
   "source": [
    "# Instantiate our model.\n",
    "regr = linear_model.LinearRegression()\n",
    "\n",
    "# Fit our model to our data.\n",
    "regr.fit(X_train, y_train)\n",
    "\n",
    "# Display the attributes we calculated.\n",
    "print('Coefficients: \\n', regr.coef_)\n",
    "print('Intercept: \\n', regr.intercept_)"
   ]
  },
  {
   "cell_type": "code",
   "execution_count": 24,
   "metadata": {},
   "outputs": [
    {
     "data": {
      "text/plain": [
       "0.21429588963278368"
      ]
     },
     "execution_count": 24,
     "metadata": {},
     "output_type": "execute_result"
    }
   ],
   "source": [
    "regr.score(X_train, y_train)"
   ]
  },
  {
   "cell_type": "code",
   "execution_count": 25,
   "metadata": {},
   "outputs": [
    {
     "name": "stdout",
     "output_type": "stream",
     "text": [
      "Coefficients: \n",
      " [ 102.22435689]\n",
      "Intercept: \n",
      " 180.445783133\n"
     ]
    }
   ],
   "source": [
    "my_cols = ['Murder']\n",
    "data = raw.dropna(subset=['Murder','PropertyCrime'])\n",
    "X = data[my_cols].as_matrix()\n",
    "y = data['PropertyCrime'].as_matrix()\n",
    "\n",
    "X_train, X_test, y_train, y_test = train_test_split(X, y, test_size=0.4, random_state=0)\n",
    "\n",
    "# Instantiate our model.\n",
    "regr = linear_model.LinearRegression()\n",
    "\n",
    "# Fit our model to our data.\n",
    "regr.fit(X_train, y_train)\n",
    "\n",
    "# Display the attributes we calculated.\n",
    "print('Coefficients: \\n', regr.coef_)\n",
    "print('Intercept: \\n', regr.intercept_)"
   ]
  },
  {
   "cell_type": "code",
   "execution_count": 26,
   "metadata": {},
   "outputs": [
    {
     "data": {
      "text/plain": [
       "[<matplotlib.lines.Line2D at 0x2aa60f33940>]"
      ]
     },
     "execution_count": 26,
     "metadata": {},
     "output_type": "execute_result"
    },
    {
     "data": {
      "image/png": "[encoded data removed]",
      "text/plain": [
       "<matplotlib.figure.Figure at 0x2aa60f336a0>"
      ]
     },
     "metadata": {},
     "output_type": "display_data"
    }
   ],
   "source": [
    "plt.scatter(X_train[:,0], y_train, color='black')\n",
    "plt.plot(X_train[:,0], regr.predict(X_train), color='blue', linewidth=3)"
   ]
  },
  {
   "cell_type": "code",
   "execution_count": 27,
   "metadata": {
    "collapsed": true
   },
   "outputs": [],
   "source": [
    "my_cols = ['Population', 'Population_2_log', 'Robbery_feature', 'Murder']\n",
    "data = raw[my_cols].copy()\n",
    "data.fillna(0, inplace=True)\n",
    "X = data.as_matrix()\n",
    "y = raw['PropertyCrime'].fillna(0).as_matrix()"
   ]
  },
  {
   "cell_type": "code",
   "execution_count": 28,
   "metadata": {},
   "outputs": [
    {
     "name": "stdout",
     "output_type": "stream",
     "text": [
      "Coefficients: \n",
      " [  1.89223767e-04   1.66514345e+01   1.45129163e+02  -5.71568142e+00]\n",
      "Intercept: \n",
      " -217.484369582\n"
     ]
    }
   ],
   "source": [
    "X_train, X_test, y_train, y_test = train_test_split(X, y, test_size=0.4, random_state=0)\n",
    "\n",
    "# Instantiate our model.\n",
    "regr = linear_model.LinearRegression()\n",
    "\n",
    "# Fit our model to our data.\n",
    "regr.fit(X_train, y_train)\n",
    "\n",
    "# Display the attributes we calculated.\n",
    "print('Coefficients: \\n', regr.coef_)\n",
    "print('Intercept: \\n', regr.intercept_)"
   ]
  },
  {
   "cell_type": "code",
   "execution_count": 29,
   "metadata": {},
   "outputs": [
    {
     "data": {
      "text/plain": [
       "0.24955026215837428"
      ]
     },
     "execution_count": 29,
     "metadata": {},
     "output_type": "execute_result"
    }
   ],
   "source": [
    "regr.score(X_train, y_train)"
   ]
  },
  {
   "cell_type": "markdown",
   "metadata": {},
   "source": [
    "So changing Population Squared to the log of Population Squared increased the score, but this is still a really bad model."
   ]
  },
  {
   "cell_type": "code",
   "execution_count": 30,
   "metadata": {},
   "outputs": [
    {
     "data": {
      "text/plain": [
       "Index(['City', 'Population', 'Violent', 'Murder', 'Rape1', 'Rape2', 'Robbery',\n",
       "       'AggAssault', 'PropertyCrime', 'Burglary', 'Larceny', 'Motor', 'Arson',\n",
       "       'Murder_feature', 'Robbery_feature', 'Population_3', 'Population_2',\n",
       "       'Population_2_log'],\n",
       "      dtype='object')"
      ]
     },
     "execution_count": 30,
     "metadata": {},
     "output_type": "execute_result"
    }
   ],
   "source": [
    "raw.columns"
   ]
  },
  {
   "cell_type": "code",
   "execution_count": 31,
   "metadata": {},
   "outputs": [],
   "source": [
    "raw['Larceny'] = raw['Larceny'].str.replace(' ', '')\n",
    "raw['Larceny'] = raw['Larceny'].str.replace(',', '')\n",
    "raw['Larceny_1'] = pd.to_numeric(raw['Larceny'])\n",
    "\n",
    "raw['Violent'] = raw['Violent'].str.replace(' ', '')\n",
    "raw['Violent'] = raw['Violent'].str.replace(',', '')\n",
    "raw['Violent_1'] = pd.to_numeric(raw['Larceny'])\n",
    "\n",
    "raw['Burglary'] = raw['Burglary'].str.replace(' ', '')\n",
    "raw['Burglary'] = raw['Burglary'].str.replace(',', '')\n",
    "raw['Burglary_1'] = pd.to_numeric(raw['Burglary'])\n",
    "\n",
    "raw['AggAssault'] = raw['AggAssault'].str.replace(' ', '')\n",
    "raw['AggAssault'] = raw['AggAssault'].str.replace(',', '')\n",
    "raw['AggAssault_1'] = pd.to_numeric(raw['AggAssault'])\n",
    "\n",
    "raw['Motor'] = raw['Motor'].str.replace(' ', '')\n",
    "raw['Motor'] = raw['Motor'].str.replace(',', '')\n",
    "raw['Motor_1'] = pd.to_numeric(raw['Motor'])\n",
    "\n",
    "\n",
    "raw['Arson'] = raw['Arson'].str.replace(' ', '')\n",
    "raw['Arson'] = raw['Arson'].str.replace(',', '')\n",
    "raw['Arson_1'] = pd.to_numeric(raw['Arson'])\n",
    "\n",
    "\n",
    "raw['Rape1'] = raw['Rape1'].str.replace(' ', '')\n",
    "raw['Rape1'] = raw['Rape1'].str.replace(',', '')\n",
    "raw['Rape1_1'] = pd.to_numeric(raw['Rape1'])\n",
    "\n",
    "\n",
    "raw['Rape2'] = raw['Rape2'].str.replace(' ', '')\n",
    "raw['Rape2'] = raw['Rape2'].str.replace(',', '')\n",
    "raw['Rape2_1'] = pd.to_numeric(raw['Rape2'])"
   ]
  },
  {
   "cell_type": "code",
   "execution_count": 32,
   "metadata": {},
   "outputs": [],
   "source": [
    "my_cols = ['Robbery_feature', 'Murder_feature','Violent_1','Rape1_1','Rape2_1','AggAssault_1','Burglary_1','Larceny_1','Motor_1','Arson_1']\n",
    "data = raw[my_cols].copy()\n",
    "data.fillna(0, inplace=True)\n",
    "X = data.as_matrix()\n",
    "y = raw['PropertyCrime'].fillna(0).as_matrix()"
   ]
  },
  {
   "cell_type": "code",
   "execution_count": 33,
   "metadata": {},
   "outputs": [
    {
     "name": "stdout",
     "output_type": "stream",
     "text": [
      "Coefficients: \n",
      " [  1.53249920e+02   1.35665387e+02   6.23628150e-02  -2.70783396e-13\n",
      "   1.89977368e+01  -6.11400925e-01  -6.37624271e-01   6.23628148e-02\n",
      "  -8.08221326e-01  -6.60890829e+00]\n",
      "Intercept: \n",
      " 42.2419654854\n"
     ]
    }
   ],
   "source": [
    "X_train, X_test, y_train, y_test = train_test_split(X, y, test_size=0.4, random_state=0)\n",
    "\n",
    "# Instantiate our model.\n",
    "regr = linear_model.LinearRegression()\n",
    "\n",
    "# Fit our model to our data.\n",
    "regr.fit(X_train, y_train)\n",
    "\n",
    "# Display the attributes we calculated.\n",
    "print('Coefficients: \\n', regr.coef_)\n",
    "print('Intercept: \\n', regr.intercept_)"
   ]
  },
  {
   "cell_type": "code",
   "execution_count": 34,
   "metadata": {},
   "outputs": [
    {
     "data": {
      "text/plain": [
       "0.34374713638156806"
      ]
     },
     "execution_count": 34,
     "metadata": {},
     "output_type": "execute_result"
    }
   ],
   "source": [
    "regr.score(X_train, y_train)"
   ]
  },
  {
   "cell_type": "code",
   "execution_count": 36,
   "metadata": {},
   "outputs": [
    {
     "data": {
      "text/html": [
       "<div>\n",
       "<style>\n",
       "    .dataframe thead tr:only-child th {\n",
       "        text-align: right;\n",
       "    }\n",
       "\n",
       "    .dataframe thead th {\n",
       "        text-align: left;\n",
       "    }\n",
       "\n",
       "    .dataframe tbody tr th {\n",
       "        vertical-align: top;\n",
       "    }\n",
       "</style>\n",
       "<table border=\"1\" class=\"dataframe\">\n",
       "  <thead>\n",
       "    <tr style=\"text-align: right;\">\n",
       "      <th></th>\n",
       "      <th>City</th>\n",
       "      <th>Population</th>\n",
       "      <th>Violent</th>\n",
       "      <th>Murder</th>\n",
       "      <th>Rape1</th>\n",
       "      <th>Rape2</th>\n",
       "      <th>Robbery</th>\n",
       "      <th>AggAssault</th>\n",
       "      <th>PropertyCrime</th>\n",
       "      <th>Burglary</th>\n",
       "      <th>Larceny</th>\n",
       "      <th>Motor</th>\n",
       "      <th>Arson</th>\n",
       "    </tr>\n",
       "  </thead>\n",
       "  <tbody>\n",
       "    <tr>\n",
       "      <th>1</th>\n",
       "      <td>Altamonte Springs</td>\n",
       "      <td>42040</td>\n",
       "      <td>150</td>\n",
       "      <td>0</td>\n",
       "      <td>8</td>\n",
       "      <td>NaN</td>\n",
       "      <td>37</td>\n",
       "      <td>105</td>\n",
       "      <td>1564.0</td>\n",
       "      <td>300</td>\n",
       "      <td>1180.0</td>\n",
       "      <td>84</td>\n",
       "      <td>3</td>\n",
       "    </tr>\n",
       "    <tr>\n",
       "      <th>2</th>\n",
       "      <td>Altha</td>\n",
       "      <td>536</td>\n",
       "      <td>1</td>\n",
       "      <td>0</td>\n",
       "      <td>0</td>\n",
       "      <td>NaN</td>\n",
       "      <td>0</td>\n",
       "      <td>1</td>\n",
       "      <td>3.0</td>\n",
       "      <td>3</td>\n",
       "      <td>0.0</td>\n",
       "      <td>0</td>\n",
       "      <td>0</td>\n",
       "    </tr>\n",
       "    <tr>\n",
       "      <th>3</th>\n",
       "      <td>Apalachicola</td>\n",
       "      <td>2269</td>\n",
       "      <td>1</td>\n",
       "      <td>0</td>\n",
       "      <td>0</td>\n",
       "      <td>NaN</td>\n",
       "      <td>0</td>\n",
       "      <td>1</td>\n",
       "      <td>35.0</td>\n",
       "      <td>8</td>\n",
       "      <td>27.0</td>\n",
       "      <td>0</td>\n",
       "      <td>0</td>\n",
       "    </tr>\n",
       "    <tr>\n",
       "      <th>4</th>\n",
       "      <td>Apopka</td>\n",
       "      <td>45397</td>\n",
       "      <td>178</td>\n",
       "      <td>1</td>\n",
       "      <td>11</td>\n",
       "      <td>NaN</td>\n",
       "      <td>57</td>\n",
       "      <td>109</td>\n",
       "      <td>1527.0</td>\n",
       "      <td>231</td>\n",
       "      <td>1202.0</td>\n",
       "      <td>94</td>\n",
       "      <td>6</td>\n",
       "    </tr>\n",
       "    <tr>\n",
       "      <th>5</th>\n",
       "      <td>Arcadia</td>\n",
       "      <td>7615</td>\n",
       "      <td>82</td>\n",
       "      <td>2</td>\n",
       "      <td>3</td>\n",
       "      <td>NaN</td>\n",
       "      <td>9</td>\n",
       "      <td>68</td>\n",
       "      <td>172.0</td>\n",
       "      <td>43</td>\n",
       "      <td>123.0</td>\n",
       "      <td>6</td>\n",
       "      <td>4</td>\n",
       "    </tr>\n",
       "  </tbody>\n",
       "</table>\n",
       "</div>"
      ],
      "text/plain": [
       "                City  Population  Violent  Murder  Rape1  Rape2  Robbery  \\\n",
       "1  Altamonte Springs       42040      150       0      8    NaN       37   \n",
       "2              Altha         536        1       0      0    NaN        0   \n",
       "3       Apalachicola        2269        1       0      0    NaN        0   \n",
       "4             Apopka       45397      178       1     11    NaN       57   \n",
       "5            Arcadia        7615       82       2      3    NaN        9   \n",
       "\n",
       "   AggAssault  PropertyCrime  Burglary  Larceny  Motor  Arson  \n",
       "1         105         1564.0       300   1180.0     84      3  \n",
       "2           1            3.0         3      0.0      0      0  \n",
       "3           1           35.0         8     27.0      0      0  \n",
       "4         109         1527.0       231   1202.0     94      6  \n",
       "5          68          172.0        43    123.0      6      4  "
      ]
     },
     "execution_count": 36,
     "metadata": {},
     "output_type": "execute_result"
    }
   ],
   "source": [
    "filepath = 'C:\\\\Users\\\\kim\\\\Downloads\\\\florida.csv'\n",
    "florida = pd.read_csv(filepath)\n",
    "\n",
    "# Set the columns to be the Oth row\n",
    "florida.columns = florida.iloc[0]\n",
    "\n",
    "# Drop the 0th row (effectively, we're really just saying, I want to keep everything BUT the 0th row)\n",
    "florida = florida[1:]\n",
    "florida.columns=['City','Population','Violent','Murder','Rape1','Rape2','Robbery','AggAssault','PropertyCrime','Burglary','Larceny','Motor','Arson']\n",
    "florida.head()"
   ]
  },
  {
   "cell_type": "code",
   "execution_count": 38,
   "metadata": {
    "collapsed": true
   },
   "outputs": [],
   "source": [
    "my_cols = ['Robbery', 'Murder','Violent','Rape1','AggAssault','Burglary','Larceny','Motor','Arson']\n",
    "data = florida[my_cols].copy()\n",
    "data.fillna(0, inplace=True)\n",
    "X = data.as_matrix()\n",
    "y = florida['PropertyCrime'].fillna(0).as_matrix()"
   ]
  },
  {
   "cell_type": "code",
   "execution_count": 39,
   "metadata": {},
   "outputs": [
    {
     "name": "stdout",
     "output_type": "stream",
     "text": [
      "Coefficients: \n",
      " [ -1.40343513e-03   3.58321972e-03   1.31289933e-03   6.36253565e-04\n",
      "  -1.50313883e-03   9.99975931e-01   1.00012099e+00   9.99286741e-01\n",
      "  -9.55090021e-04]\n",
      "Intercept: \n",
      " -0.123135013288\n"
     ]
    }
   ],
   "source": [
    "X_train, X_test, y_train, y_test = train_test_split(X, y, test_size=0.4, random_state=0)\n",
    "\n",
    "# Instantiate our model.\n",
    "regr = linear_model.LinearRegression()\n",
    "\n",
    "# Fit our model to our data.\n",
    "regr.fit(X_train, y_train)\n",
    "\n",
    "# Display the attributes we calculated.\n",
    "print('Coefficients: \\n', regr.coef_)\n",
    "print('Intercept: \\n', regr.intercept_)"
   ]
  },
  {
   "cell_type": "code",
   "execution_count": 40,
   "metadata": {},
   "outputs": [
    {
     "data": {
      "text/plain": [
       "0.99999977633837078"
      ]
     },
     "execution_count": 40,
     "metadata": {},
     "output_type": "execute_result"
    }
   ],
   "source": [
    "regr.score(X_train, y_train)"
   ]
  },
  {
   "cell_type": "code",
   "execution_count": 48,
   "metadata": {
    "collapsed": true
   },
   "outputs": [],
   "source": [
    "my_cols = ['Population','PropertyCrime','Robbery', 'Murder','Violent','Rape1','AggAssault','Burglary','Larceny','Motor','Arson']\n",
    "data = florida[my_cols].copy()\n",
    "data.fillna(0, inplace=True)\n",
    "X = data.as_matrix()"
   ]
  },
  {
   "cell_type": "code",
   "execution_count": 50,
   "metadata": {},
   "outputs": [],
   "source": [
    "import statsmodels.formula.api as smf\n",
    "from statsmodels.sandbox.regression.predstd import wls_prediction_std\n",
    "# Write out the model formula.\n",
    "# Your dependent variable on the right, independent variables on the left\n",
    "# Use a ~ to represent an '=' from the functional form\n",
    "linear_formula = 'PropertyCrime ~ Population+Violent+Murder+Rape1+Robbery+AggAssault+Burglary+Larceny+Motor+Arson'\n",
    "\n",
    "# Fit the model to our data using the formula.\n",
    "lm = smf.ols(formula=linear_formula, data=data).fit()"
   ]
  },
  {
   "cell_type": "code",
   "execution_count": 51,
   "metadata": {},
   "outputs": [
    {
     "data": {
      "text/plain": [
       "Intercept    -6.433607e-02\n",
       "Population    5.032932e-07\n",
       "Violent      -1.022632e-03\n",
       "Murder       -3.675798e-03\n",
       "Rape1         6.744156e-04\n",
       "Robbery       1.043560e-03\n",
       "AggAssault    9.351900e-04\n",
       "Burglary      1.000019e+00\n",
       "Larceny       1.000016e+00\n",
       "Motor         9.999942e-01\n",
       "Arson         9.794378e-04\n",
       "dtype: float64"
      ]
     },
     "execution_count": 51,
     "metadata": {},
     "output_type": "execute_result"
    }
   ],
   "source": [
    "lm.params"
   ]
  },
  {
   "cell_type": "code",
   "execution_count": 52,
   "metadata": {},
   "outputs": [
    {
     "data": {
      "text/plain": [
       "Intercept     0.267251\n",
       "Population    0.860134\n",
       "Violent       0.799100\n",
       "Murder        0.832954\n",
       "Rape1         0.919266\n",
       "Robbery       0.819635\n",
       "AggAssault    0.829210\n",
       "Burglary      0.000000\n",
       "Larceny       0.000000\n",
       "Motor         0.000000\n",
       "Arson         0.953094\n",
       "dtype: float64"
      ]
     },
     "execution_count": 52,
     "metadata": {},
     "output_type": "execute_result"
    }
   ],
   "source": [
    "lm.pvalues"
   ]
  },
  {
   "cell_type": "code",
   "execution_count": 53,
   "metadata": {},
   "outputs": [
    {
     "data": {
      "text/plain": [
       "0.99999992053800446"
      ]
     },
     "execution_count": 53,
     "metadata": {},
     "output_type": "execute_result"
    }
   ],
   "source": [
    "lm.rsquared"
   ]
  },
  {
   "cell_type": "code",
   "execution_count": null,
   "metadata": {
    "collapsed": true
   },
   "outputs": [],
   "source": []
  }
 ],
 "metadata": {
  "kernelspec": {
   "display_name": "Python 3",
   "language": "python",
   "name": "python3"
  },
  "language_info": {
   "codemirror_mode": {
    "name": "ipython",
    "version": 3
   },
   "file_extension": ".py",
   "mimetype": "text/x-python",
   "name": "python",
   "nbconvert_exporter": "python",
   "pygments_lexer": "ipython3",
   "version": "3.6.1"
  }
 },
 "nbformat": 4,
 "nbformat_minor": 2
}
