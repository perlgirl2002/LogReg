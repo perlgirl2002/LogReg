{
 "cells": [
  {
   "cell_type": "code",
   "execution_count": 1,
   "metadata": {
    "collapsed": true
   },
   "outputs": [],
   "source": [
    "import pandas as pd\n",
    "import numpy as np\n",
    "import matplotlib.pyplot as plt\n",
    "import seaborn as sns\n",
    "from scipy.spatial import distance\n",
    "from scipy import spatial\n",
    "from sklearn.decomposition import PCA\n",
    "from sklearn.preprocessing import scale\n",
    "from pylab import rcParams\n",
    "from sklearn import preprocessing\n",
    "from sklearn.linear_model import LogisticRegression\n",
    "from sklearn.model_selection import train_test_split\n",
    "from sklearn import metrics \n",
    "from sklearn.metrics import classification_report\n",
    "from scipy import stats\n",
    "\n",
    "%matplotlib inline"
   ]
  },
  {
   "cell_type": "code",
   "execution_count": 2,
   "metadata": {},
   "outputs": [
    {
     "data": {
      "text/html": [
       "<div>\n",
       "<style>\n",
       "    .dataframe thead tr:only-child th {\n",
       "        text-align: right;\n",
       "    }\n",
       "\n",
       "    .dataframe thead th {\n",
       "        text-align: left;\n",
       "    }\n",
       "\n",
       "    .dataframe tbody tr th {\n",
       "        vertical-align: top;\n",
       "    }\n",
       "</style>\n",
       "<table border=\"1\" class=\"dataframe\">\n",
       "  <thead>\n",
       "    <tr style=\"text-align: right;\">\n",
       "      <th></th>\n",
       "      <th>GenderSelect</th>\n",
       "      <th>Country</th>\n",
       "      <th>Age</th>\n",
       "      <th>EmploymentStatus</th>\n",
       "      <th>StudentStatus</th>\n",
       "      <th>LearningDataScience</th>\n",
       "      <th>CodeWriter</th>\n",
       "      <th>CareerSwitcher</th>\n",
       "      <th>CurrentJobTitleSelect</th>\n",
       "      <th>TitleFit</th>\n",
       "      <th>...</th>\n",
       "      <th>JobFactorExperienceLevel</th>\n",
       "      <th>JobFactorDepartment</th>\n",
       "      <th>JobFactorTitle</th>\n",
       "      <th>JobFactorCompanyFunding</th>\n",
       "      <th>JobFactorImpact</th>\n",
       "      <th>JobFactorRemote</th>\n",
       "      <th>JobFactorIndustry</th>\n",
       "      <th>JobFactorLeaderReputation</th>\n",
       "      <th>JobFactorDiversity</th>\n",
       "      <th>JobFactorPublishingOpportunity</th>\n",
       "    </tr>\n",
       "  </thead>\n",
       "  <tbody>\n",
       "    <tr>\n",
       "      <th>0</th>\n",
       "      <td>Non-binary, genderqueer, or gender non-conforming</td>\n",
       "      <td>NaN</td>\n",
       "      <td>NaN</td>\n",
       "      <td>Employed full-time</td>\n",
       "      <td>NaN</td>\n",
       "      <td>NaN</td>\n",
       "      <td>Yes</td>\n",
       "      <td>NaN</td>\n",
       "      <td>DBA/Database Engineer</td>\n",
       "      <td>Fine</td>\n",
       "      <td>...</td>\n",
       "      <td>NaN</td>\n",
       "      <td>NaN</td>\n",
       "      <td>NaN</td>\n",
       "      <td>NaN</td>\n",
       "      <td>NaN</td>\n",
       "      <td>NaN</td>\n",
       "      <td>NaN</td>\n",
       "      <td>NaN</td>\n",
       "      <td>NaN</td>\n",
       "      <td>NaN</td>\n",
       "    </tr>\n",
       "    <tr>\n",
       "      <th>1</th>\n",
       "      <td>Female</td>\n",
       "      <td>United States</td>\n",
       "      <td>30.0</td>\n",
       "      <td>Not employed, but looking for work</td>\n",
       "      <td>NaN</td>\n",
       "      <td>NaN</td>\n",
       "      <td>NaN</td>\n",
       "      <td>NaN</td>\n",
       "      <td>NaN</td>\n",
       "      <td>NaN</td>\n",
       "      <td>...</td>\n",
       "      <td>NaN</td>\n",
       "      <td>NaN</td>\n",
       "      <td>NaN</td>\n",
       "      <td>NaN</td>\n",
       "      <td>NaN</td>\n",
       "      <td>NaN</td>\n",
       "      <td>NaN</td>\n",
       "      <td>Somewhat important</td>\n",
       "      <td>NaN</td>\n",
       "      <td>NaN</td>\n",
       "    </tr>\n",
       "    <tr>\n",
       "      <th>2</th>\n",
       "      <td>Male</td>\n",
       "      <td>Canada</td>\n",
       "      <td>28.0</td>\n",
       "      <td>Not employed, but looking for work</td>\n",
       "      <td>NaN</td>\n",
       "      <td>NaN</td>\n",
       "      <td>NaN</td>\n",
       "      <td>NaN</td>\n",
       "      <td>NaN</td>\n",
       "      <td>NaN</td>\n",
       "      <td>...</td>\n",
       "      <td>Very Important</td>\n",
       "      <td>Very Important</td>\n",
       "      <td>Very Important</td>\n",
       "      <td>Very Important</td>\n",
       "      <td>Very Important</td>\n",
       "      <td>Very Important</td>\n",
       "      <td>Very Important</td>\n",
       "      <td>Very Important</td>\n",
       "      <td>Very Important</td>\n",
       "      <td>Very Important</td>\n",
       "    </tr>\n",
       "    <tr>\n",
       "      <th>3</th>\n",
       "      <td>Male</td>\n",
       "      <td>United States</td>\n",
       "      <td>56.0</td>\n",
       "      <td>Independent contractor, freelancer, or self-em...</td>\n",
       "      <td>NaN</td>\n",
       "      <td>NaN</td>\n",
       "      <td>Yes</td>\n",
       "      <td>NaN</td>\n",
       "      <td>Operations Research Practitioner</td>\n",
       "      <td>Poorly</td>\n",
       "      <td>...</td>\n",
       "      <td>NaN</td>\n",
       "      <td>NaN</td>\n",
       "      <td>NaN</td>\n",
       "      <td>NaN</td>\n",
       "      <td>NaN</td>\n",
       "      <td>NaN</td>\n",
       "      <td>NaN</td>\n",
       "      <td>NaN</td>\n",
       "      <td>NaN</td>\n",
       "      <td>NaN</td>\n",
       "    </tr>\n",
       "    <tr>\n",
       "      <th>4</th>\n",
       "      <td>Male</td>\n",
       "      <td>Taiwan</td>\n",
       "      <td>38.0</td>\n",
       "      <td>Employed full-time</td>\n",
       "      <td>NaN</td>\n",
       "      <td>NaN</td>\n",
       "      <td>Yes</td>\n",
       "      <td>NaN</td>\n",
       "      <td>Computer Scientist</td>\n",
       "      <td>Fine</td>\n",
       "      <td>...</td>\n",
       "      <td>NaN</td>\n",
       "      <td>NaN</td>\n",
       "      <td>NaN</td>\n",
       "      <td>NaN</td>\n",
       "      <td>NaN</td>\n",
       "      <td>NaN</td>\n",
       "      <td>NaN</td>\n",
       "      <td>NaN</td>\n",
       "      <td>NaN</td>\n",
       "      <td>NaN</td>\n",
       "    </tr>\n",
       "  </tbody>\n",
       "</table>\n",
       "<p>5 rows × 228 columns</p>\n",
       "</div>"
      ],
      "text/plain": [
       "                                        GenderSelect        Country   Age  \\\n",
       "0  Non-binary, genderqueer, or gender non-conforming            NaN   NaN   \n",
       "1                                             Female  United States  30.0   \n",
       "2                                               Male         Canada  28.0   \n",
       "3                                               Male  United States  56.0   \n",
       "4                                               Male         Taiwan  38.0   \n",
       "\n",
       "                                    EmploymentStatus StudentStatus  \\\n",
       "0                                 Employed full-time           NaN   \n",
       "1                 Not employed, but looking for work           NaN   \n",
       "2                 Not employed, but looking for work           NaN   \n",
       "3  Independent contractor, freelancer, or self-em...           NaN   \n",
       "4                                 Employed full-time           NaN   \n",
       "\n",
       "  LearningDataScience CodeWriter CareerSwitcher  \\\n",
       "0                 NaN        Yes            NaN   \n",
       "1                 NaN        NaN            NaN   \n",
       "2                 NaN        NaN            NaN   \n",
       "3                 NaN        Yes            NaN   \n",
       "4                 NaN        Yes            NaN   \n",
       "\n",
       "              CurrentJobTitleSelect TitleFit              ...                \\\n",
       "0             DBA/Database Engineer     Fine              ...                 \n",
       "1                               NaN      NaN              ...                 \n",
       "2                               NaN      NaN              ...                 \n",
       "3  Operations Research Practitioner   Poorly              ...                 \n",
       "4                Computer Scientist     Fine              ...                 \n",
       "\n",
       "  JobFactorExperienceLevel JobFactorDepartment  JobFactorTitle  \\\n",
       "0                      NaN                 NaN             NaN   \n",
       "1                      NaN                 NaN             NaN   \n",
       "2           Very Important      Very Important  Very Important   \n",
       "3                      NaN                 NaN             NaN   \n",
       "4                      NaN                 NaN             NaN   \n",
       "\n",
       "  JobFactorCompanyFunding JobFactorImpact JobFactorRemote JobFactorIndustry  \\\n",
       "0                     NaN             NaN             NaN               NaN   \n",
       "1                     NaN             NaN             NaN               NaN   \n",
       "2          Very Important  Very Important  Very Important    Very Important   \n",
       "3                     NaN             NaN             NaN               NaN   \n",
       "4                     NaN             NaN             NaN               NaN   \n",
       "\n",
       "  JobFactorLeaderReputation JobFactorDiversity JobFactorPublishingOpportunity  \n",
       "0                       NaN                NaN                            NaN  \n",
       "1        Somewhat important                NaN                            NaN  \n",
       "2            Very Important     Very Important                 Very Important  \n",
       "3                       NaN                NaN                            NaN  \n",
       "4                       NaN                NaN                            NaN  \n",
       "\n",
       "[5 rows x 228 columns]"
      ]
     },
     "execution_count": 2,
     "metadata": {},
     "output_type": "execute_result"
    }
   ],
   "source": [
    "df = pd.read_csv(\"C:\\\\Users\\\\kim\\\\Downloads\\\\multipleChoiceResponses.csv\", encoding='latin-1', low_memory=False)\n",
    "df.head()"
   ]
  },
  {
   "cell_type": "code",
   "execution_count": 3,
   "metadata": {
    "collapsed": true
   },
   "outputs": [],
   "source": [
    "gender_df = df['GenderSelect'].value_counts()\n",
    "gender_df = gender_df.to_frame()\n",
    "gender_df = gender_df.reset_index()\n",
    "columns = ['Gender','Total']\n",
    "gender_df.columns = columns"
   ]
  },
  {
   "cell_type": "code",
   "execution_count": 4,
   "metadata": {},
   "outputs": [
    {
     "data": {
      "text/html": [
       "<div>\n",
       "<style>\n",
       "    .dataframe thead tr:only-child th {\n",
       "        text-align: right;\n",
       "    }\n",
       "\n",
       "    .dataframe thead th {\n",
       "        text-align: left;\n",
       "    }\n",
       "\n",
       "    .dataframe tbody tr th {\n",
       "        vertical-align: top;\n",
       "    }\n",
       "</style>\n",
       "<table border=\"1\" class=\"dataframe\">\n",
       "  <thead>\n",
       "    <tr style=\"text-align: right;\">\n",
       "      <th></th>\n",
       "      <th>Gender</th>\n",
       "      <th>Total</th>\n",
       "      <th>Percent</th>\n",
       "    </tr>\n",
       "  </thead>\n",
       "  <tbody>\n",
       "    <tr>\n",
       "      <th>0</th>\n",
       "      <td>Male</td>\n",
       "      <td>13610</td>\n",
       "      <td>81.884363</td>\n",
       "    </tr>\n",
       "    <tr>\n",
       "      <th>1</th>\n",
       "      <td>Female</td>\n",
       "      <td>2778</td>\n",
       "      <td>16.713796</td>\n",
       "    </tr>\n",
       "    <tr>\n",
       "      <th>2</th>\n",
       "      <td>A different identity</td>\n",
       "      <td>159</td>\n",
       "      <td>0.956621</td>\n",
       "    </tr>\n",
       "    <tr>\n",
       "      <th>3</th>\n",
       "      <td>Non-binary, genderqueer, or gender non-conforming</td>\n",
       "      <td>74</td>\n",
       "      <td>0.445220</td>\n",
       "    </tr>\n",
       "  </tbody>\n",
       "</table>\n",
       "</div>"
      ],
      "text/plain": [
       "                                              Gender  Total    Percent\n",
       "0                                               Male  13610  81.884363\n",
       "1                                             Female   2778  16.713796\n",
       "2                               A different identity    159   0.956621\n",
       "3  Non-binary, genderqueer, or gender non-conforming     74   0.445220"
      ]
     },
     "execution_count": 4,
     "metadata": {},
     "output_type": "execute_result"
    }
   ],
   "source": [
    "gender_df.head()\n",
    "grand_total = gender_df.Total.sum()\n",
    "gender_df['Percent'] = (gender_df.Total/grand_total)*100\n",
    "gender_df.head()"
   ]
  },
  {
   "cell_type": "code",
   "execution_count": 5,
   "metadata": {},
   "outputs": [
    {
     "data": {
      "image/png": "[encoded data removed]",
      "text/plain": [
       "<matplotlib.figure.Figure at 0x27163073d68>"
      ]
     },
     "metadata": {},
     "output_type": "display_data"
    }
   ],
   "source": [
    "sns.set_style('whitegrid')\n",
    "plt.figure(figsize=(10, 6))\n",
    "figure = sns.barplot(x='Gender', y='Percent', data=gender_df)\n",
    "plt.xlabel('Formal Education')\n",
    "plt.ylabel('Number of Responses')\n",
    "plt.title('Percentage of the Total')\n",
    "for tick in figure.get_xticklabels():\n",
    "    tick.set_rotation(45)\n",
    "    \n",
    "# Display this plot in percentages"
   ]
  },
  {
   "cell_type": "code",
   "execution_count": 6,
   "metadata": {
    "collapsed": true
   },
   "outputs": [],
   "source": [
    "ed_df = df['FormalEducation'].value_counts()\n",
    "ed_df = ed_df.to_frame()\n",
    "ed_df = ed_df.reset_index()\n",
    "columns = ['Education','Total']\n",
    "ed_df.columns = columns"
   ]
  },
  {
   "cell_type": "code",
   "execution_count": 7,
   "metadata": {},
   "outputs": [
    {
     "data": {
      "text/plain": [
       "<matplotlib.text.Text at 0x271631de710>"
      ]
     },
     "execution_count": 7,
     "metadata": {},
     "output_type": "execute_result"
    },
    {
     "data": {
      "image/png": "[encoded data removed]",
      "text/plain": [
       "<matplotlib.figure.Figure at 0x27163184cf8>"
      ]
     },
     "metadata": {},
     "output_type": "display_data"
    }
   ],
   "source": [
    "sns.set_style('whitegrid')\n",
    "plt.figure(figsize=(18, 12))\n",
    "figure = sns.barplot(x='Total', y='Education', data=ed_df)\n",
    "plt.xlabel('Number of Responses')\n",
    "plt.ylabel('Formal Education')\n",
    "plt.title('Number of Responses per Type')"
   ]
  },
  {
   "cell_type": "code",
   "execution_count": 8,
   "metadata": {
    "collapsed": true
   },
   "outputs": [],
   "source": [
    "major_df = df['MajorSelect'].value_counts()\n",
    "major_df = major_df.to_frame()\n",
    "major_df = major_df.reset_index()\n",
    "columns = ['Major','Total']\n",
    "major_df.columns = columns"
   ]
  },
  {
   "cell_type": "code",
   "execution_count": 9,
   "metadata": {},
   "outputs": [
    {
     "data": {
      "text/plain": [
       "<matplotlib.text.Text at 0x271632c3748>"
      ]
     },
     "execution_count": 9,
     "metadata": {},
     "output_type": "execute_result"
    },
    {
     "data": {
      "image/png": "[encoded data removed]",
      "text/plain": [
       "<matplotlib.figure.Figure at 0x271632548d0>"
      ]
     },
     "metadata": {},
     "output_type": "display_data"
    }
   ],
   "source": [
    "sns.set_style('whitegrid')\n",
    "plt.figure(figsize=(18, 12))\n",
    "figure = sns.barplot(x='Total', y='Major', data=major_df)\n",
    "plt.xlabel('Number of Responses')\n",
    "plt.ylabel('Major')\n",
    "plt.title('Number of Responses per Method')"
   ]
  },
  {
   "cell_type": "code",
   "execution_count": 10,
   "metadata": {},
   "outputs": [
    {
     "data": {
      "text/plain": [
       "<matplotlib.axes._subplots.AxesSubplot at 0x2716473dfd0>"
      ]
     },
     "execution_count": 10,
     "metadata": {},
     "output_type": "execute_result"
    },
    {
     "data": {
      "image/png": "[encoded data removed]",
      "text/plain": [
       "<matplotlib.figure.Figure at 0x2715dd35940>"
      ]
     },
     "metadata": {},
     "output_type": "display_data"
    }
   ],
   "source": [
    "df['DataScienceIdentitySelect'].value_counts()\n",
    "df['DataScienceIdentitySelect'].value_counts().plot(kind='bar')"
   ]
  },
  {
   "cell_type": "code",
   "execution_count": 11,
   "metadata": {
    "collapsed": true
   },
   "outputs": [],
   "source": [
    "groupbyGender = df.groupby(['GenderSelect','DataScienceIdentitySelect']).size().reset_index()\n",
    "columns = ['GenderSelect', 'DataScienceIdentitySelect','Total']\n",
    "groupbyGender.columns = columns"
   ]
  },
  {
   "cell_type": "code",
   "execution_count": 12,
   "metadata": {},
   "outputs": [
    {
     "data": {
      "text/plain": [
       "<matplotlib.axes._subplots.AxesSubplot at 0x271647843c8>"
      ]
     },
     "execution_count": 12,
     "metadata": {},
     "output_type": "execute_result"
    },
    {
     "data": {
      "image/png": "[encoded data removed]",
      "text/plain": [
       "<matplotlib.figure.Figure at 0x27164f49f28>"
      ]
     },
     "metadata": {},
     "output_type": "display_data"
    }
   ],
   "source": [
    "plt.figure(figsize=(18, 12))\n",
    "sns.barplot(x=\"GenderSelect\", y=\"Total\", hue=\"DataScienceIdentitySelect\", data=groupbyGender,\n",
    "           order=[\"A different identity\",\"Non-binary, genderqueer, or gender non-conforming\",\"Female\",\"Male\"])"
   ]
  },
  {
   "cell_type": "code",
   "execution_count": 13,
   "metadata": {
    "collapsed": true
   },
   "outputs": [],
   "source": [
    "features = pd.DataFrame()"
   ]
  },
  {
   "cell_type": "code",
   "execution_count": 14,
   "metadata": {
    "collapsed": true
   },
   "outputs": [],
   "source": [
    "features['Gender'] = df['GenderSelect']"
   ]
  },
  {
   "cell_type": "code",
   "execution_count": 15,
   "metadata": {},
   "outputs": [
    {
     "data": {
      "text/html": [
       "<div>\n",
       "<style>\n",
       "    .dataframe thead tr:only-child th {\n",
       "        text-align: right;\n",
       "    }\n",
       "\n",
       "    .dataframe thead th {\n",
       "        text-align: left;\n",
       "    }\n",
       "\n",
       "    .dataframe tbody tr th {\n",
       "        vertical-align: top;\n",
       "    }\n",
       "</style>\n",
       "<table border=\"1\" class=\"dataframe\">\n",
       "  <thead>\n",
       "    <tr style=\"text-align: right;\">\n",
       "      <th></th>\n",
       "      <th>Gender</th>\n",
       "    </tr>\n",
       "  </thead>\n",
       "  <tbody>\n",
       "    <tr>\n",
       "      <th>0</th>\n",
       "      <td>2</td>\n",
       "    </tr>\n",
       "    <tr>\n",
       "      <th>1</th>\n",
       "      <td>1</td>\n",
       "    </tr>\n",
       "    <tr>\n",
       "      <th>2</th>\n",
       "      <td>0</td>\n",
       "    </tr>\n",
       "    <tr>\n",
       "      <th>3</th>\n",
       "      <td>0</td>\n",
       "    </tr>\n",
       "    <tr>\n",
       "      <th>4</th>\n",
       "      <td>0</td>\n",
       "    </tr>\n",
       "  </tbody>\n",
       "</table>\n",
       "</div>"
      ],
      "text/plain": [
       "  Gender\n",
       "0      2\n",
       "1      1\n",
       "2      0\n",
       "3      0\n",
       "4      0"
      ]
     },
     "execution_count": 15,
     "metadata": {},
     "output_type": "execute_result"
    }
   ],
   "source": [
    "# Label encoding\n",
    "\n",
    "mask = features.Gender == 'Male'\n",
    "column_name = 'Gender'\n",
    "features.loc[mask, column_name] = 0\n",
    "mask = features.Gender == 'Female'\n",
    "column_name = 'Gender'\n",
    "features.loc[mask, column_name] = 1\n",
    "mask = features.Gender == 'Non-binary, genderqueer, or gender non-conforming'\n",
    "column_name = 'Gender'\n",
    "features.loc[mask, column_name] = 2\n",
    "mask = features.Gender == 'A different identity'\n",
    "column_name = 'Gender'\n",
    "features.loc[mask, column_name] = 3\n",
    "features.head()"
   ]
  },
  {
   "cell_type": "code",
   "execution_count": 16,
   "metadata": {
    "collapsed": true
   },
   "outputs": [],
   "source": [
    "features['Masters'] = np.where(df['FormalEducation']=='Master\\'s Degree', 1, 0)\n",
    "features['PhD'] = np.where(df['FormalEducation']=='Doctoral Degree',1,0)\n",
    "features['Bachelors'] = np.where(df['FormalEducation']=='Bachelor\\'s Degree',1, 0)\n",
    "features['Some'] = np.where(df['FormalEducation']=='Some college/university study without earning a bachelor\\'s degree',1, 0)\n",
    "features['Professional'] = np.where(df['FormalEducation']=='Professional degree',1, 0)\n",
    "features['HighSchool'] = np.where(df['FormalEducation']=='I did not complete any formal education past high school',1, 0)\n",
    "features['NA'] = np.where(df['FormalEducation']=='I prefer not to answer',1, 0)"
   ]
  },
  {
   "cell_type": "code",
   "execution_count": 17,
   "metadata": {},
   "outputs": [
    {
     "data": {
      "text/plain": [
       "0    12459\n",
       "1     4257\n",
       "Name: DataScientist, dtype: int64"
      ]
     },
     "execution_count": 17,
     "metadata": {},
     "output_type": "execute_result"
    }
   ],
   "source": [
    "features['DataScientist'] = df['DataScienceIdentitySelect']\n",
    "features['DataScientist'] = np.where(features['DataScientist']=='Yes', 1, 0)\n",
    "features['DataScientist'].value_counts()"
   ]
  },
  {
   "cell_type": "code",
   "execution_count": 18,
   "metadata": {
    "collapsed": true
   },
   "outputs": [],
   "source": [
    "features['CS'] = np.where(df['MajorSelect']=='Computer Science', 1, 0)\n",
    "features['MATH'] = np.where(df['MajorSelect']=='Mathematics or statistics',1,0)\n",
    "features['ENG'] = np.where(df['MajorSelect']=='Engineering (non-computer focused)',1, 0)\n",
    "features['EE'] = np.where(df['MajorSelect']=='Electrical Engineering',1, 0)\n",
    "features['Other'] = np.where(df['MajorSelect']=='Other',1, 0)\n",
    "features['PHY'] = np.where(df['MajorSelect']=='Physics',1, 0)\n",
    "features['INF'] = np.where(df['MajorSelect']=='Information technology, networking, or system administration',1, 0)\n",
    "features['SOC'] = np.where(df['MajorSelect']=='A social science',1, 0)\n",
    "features['BIO'] = np.where(df['MajorSelect']=='Biology',1, 0)\n",
    "features['MIS'] = np.where(df['MajorSelect']=='Management information systems',1, 0)\n",
    "features['HUM'] = np.where(df['MajorSelect']=='A humanities discipline',1, 0)\n",
    "features['HS'] = np.where(df['MajorSelect']=='A health science',1, 0)\n",
    "features['PSY'] = np.where(df['MajorSelect']=='Psychology',1, 0)\n",
    "features['NM'] = np.where(df['MajorSelect']=='I never declared a major',1, 0)\n",
    "features['FA'] = np.where(df['MajorSelect']=='Fine arts or performing arts',1, 0)"
   ]
  },
  {
   "cell_type": "code",
   "execution_count": 19,
   "metadata": {},
   "outputs": [
    {
     "data": {
      "text/plain": [
       "Index(['Gender', 'Masters', 'PhD', 'Bachelors', 'Some', 'Professional',\n",
       "       'HighSchool', 'NA', 'DataScientist', 'CS', 'MATH', 'ENG', 'EE', 'Other',\n",
       "       'PHY', 'INF', 'SOC', 'BIO', 'MIS', 'HUM', 'HS', 'PSY', 'NM', 'FA'],\n",
       "      dtype='object')"
      ]
     },
     "execution_count": 19,
     "metadata": {},
     "output_type": "execute_result"
    }
   ],
   "source": [
    "features.columns"
   ]
  },
  {
   "cell_type": "code",
   "execution_count": 20,
   "metadata": {
    "collapsed": true
   },
   "outputs": [],
   "source": [
    "features.dropna(inplace=True)\n",
    "\n",
    "#X = features[['Gender','Masters','PhD','Bachelors','Some','Professional','HighSchool','NA']].as_matrix()\n",
    "X = features[['Gender', 'Masters', 'PhD', 'Bachelors', 'Some', 'Professional',\n",
    "       'HighSchool', 'NA', 'CS', 'MATH', 'ENG', 'EE', 'Other',\n",
    "       'PHY', 'INF', 'SOC', 'BIO', 'MIS', 'HUM', 'HS', 'PSY', 'NM', 'FA']].as_matrix()\n",
    "y = features['DataScientist'].as_matrix()"
   ]
  },
  {
   "cell_type": "code",
   "execution_count": 21,
   "metadata": {
    "collapsed": true
   },
   "outputs": [],
   "source": [
    "LogReg = LogisticRegression(class_weight = 'balanced')\n",
    "X_train, X_test, y_train, y_test = train_test_split(X, y, test_size = .3, random_state=25)\n",
    "LogReg.fit(X_train, y_train)\n",
    "y_pred = LogReg.predict(X_test)"
   ]
  },
  {
   "cell_type": "code",
   "execution_count": 22,
   "metadata": {},
   "outputs": [
    {
     "data": {
      "text/plain": [
       "0.48805727693881235"
      ]
     },
     "execution_count": 22,
     "metadata": {},
     "output_type": "execute_result"
    }
   ],
   "source": [
    "LogReg.score(X,y)"
   ]
  },
  {
   "cell_type": "code",
   "execution_count": 23,
   "metadata": {},
   "outputs": [
    {
     "name": "stdout",
     "output_type": "stream",
     "text": [
      "[[ 0.44563453  0.55436547]\n",
      " [ 0.50821404  0.49178596]\n",
      " [ 0.73843287  0.26156713]\n",
      " ..., \n",
      " [ 0.73843287  0.26156713]\n",
      " [ 0.62572368  0.37427632]\n",
      " [ 0.49190671  0.50809329]]\n"
     ]
    }
   ],
   "source": [
    "# generate class probabilities\n",
    "probs = LogReg.predict_proba(X_test)\n",
    "print(probs)"
   ]
  },
  {
   "cell_type": "code",
   "execution_count": 24,
   "metadata": {},
   "outputs": [
    {
     "data": {
      "text/plain": [
       "array([[<matplotlib.axes._subplots.AxesSubplot object at 0x000002716507D6A0>,\n",
       "        <matplotlib.axes._subplots.AxesSubplot object at 0x000002716545AC88>]], dtype=object)"
      ]
     },
     "execution_count": 24,
     "metadata": {},
     "output_type": "execute_result"
    },
    {
     "data": {
      "image/png": "[encoded data removed]",
      "text/plain": [
       "<matplotlib.figure.Figure at 0x2716502a2b0>"
      ]
     },
     "metadata": {},
     "output_type": "display_data"
    }
   ],
   "source": [
    "pd.DataFrame(probs).hist()"
   ]
  },
  {
   "cell_type": "code",
   "execution_count": 25,
   "metadata": {},
   "outputs": [
    {
     "name": "stdout",
     "output_type": "stream",
     "text": [
      "0.486464808502\n"
     ]
    }
   ],
   "source": [
    "# generate evaluation metrics\n",
    "print(metrics.accuracy_score(y_test, y_pred))"
   ]
  },
  {
   "cell_type": "code",
   "execution_count": 26,
   "metadata": {},
   "outputs": [
    {
     "name": "stderr",
     "output_type": "stream",
     "text": [
      "C:\\Users\\kim\\Anaconda3\\lib\\site-packages\\sklearn\\utils\\validation.py:395: DeprecationWarning: Passing 1d arrays as data is deprecated in 0.17 and will raise ValueError in 0.19. Reshape your data either using X.reshape(-1, 1) if your data has a single feature or X.reshape(1, -1) if it contains a single sample.\n",
      "  DeprecationWarning)\n"
     ]
    },
    {
     "data": {
      "text/plain": [
       "array([1])"
      ]
     },
     "execution_count": 26,
     "metadata": {},
     "output_type": "execute_result"
    }
   ],
   "source": [
    "features.head()\n",
    "me = [1, 1, 0, 0, 0, 0, 0, 0, 1, 0, 0, 0, 0, 0, 0, 0, 0, 0, 0, 0, 0, 0, 0]\n",
    "LogReg.predict(me)"
   ]
  },
  {
   "cell_type": "code",
   "execution_count": 27,
   "metadata": {},
   "outputs": [
    {
     "data": {
      "text/plain": [
       "array([[ 0.97084091,  1.        ,  1.        ,  1.        ,  0.68335605,\n",
       "         2.91600707,  1.69459582,  1.64798025,  3.42089271,  4.04630744,\n",
       "         2.73185301,  3.51192463,  2.88900205,  3.5683296 ,  3.11406217,\n",
       "         2.78087311,  4.0440308 ,  3.98357429,  1.73936028,  4.85784692,\n",
       "         4.02122802,  2.01980752,  1.78977337]])"
      ]
     },
     "execution_count": 27,
     "metadata": {},
     "output_type": "execute_result"
    }
   ],
   "source": [
    "np.exp(LogReg.coef_)"
   ]
  },
  {
   "cell_type": "code",
   "execution_count": 28,
   "metadata": {},
   "outputs": [
    {
     "name": "stdout",
     "output_type": "stream",
     "text": [
      "Accuracy: 0.486465\n",
      "Precision: 0.563387\n",
      "F1: 0.483529\n"
     ]
    }
   ],
   "source": [
    "print(\"Accuracy: %2f\" % metrics.accuracy_score(y_test, y_pred))\n",
    "print(\"Precision: %2f\" % metrics.precision_score(y_test, y_pred, average=\"macro\"))\n",
    "print(\"F1: %2f\" % metrics.f1_score(y_test, y_pred, average=\"macro\"))"
   ]
  },
  {
   "cell_type": "code",
   "execution_count": 29,
   "metadata": {},
   "outputs": [
    {
     "data": {
      "image/png": "[encoded data removed]",
      "text/plain": [
       "<matplotlib.figure.Figure at 0x27165b31e10>"
      ]
     },
     "metadata": {},
     "output_type": "display_data"
    }
   ],
   "source": [
    "for label in np.arange(1):\n",
    "    false_positive_rate, recall, thresholds = metrics.roc_curve(y_test, y_pred, pos_label=label)\n",
    "    roc_auc = metrics.auc(false_positive_rate, recall)\n",
    "    plt.plot(false_positive_rate, recall, label='AUC(%d) = %0.2f' % (label, roc_auc))\n",
    "\n",
    "plt.title('Receiver Operating Characteristic')\n",
    "plt.legend(loc='lower right')\n",
    "plt.plot([0, 1], [0, 1], 'k--')\n",
    "plt.xlim([0.0, 1.0])\n",
    "plt.ylim([0.0, 1.0])\n",
    "plt.ylabel('Recall')\n",
    "plt.xlabel('Fall-out')\n",
    "plt.show()"
   ]
  },
  {
   "cell_type": "code",
   "execution_count": 30,
   "metadata": {
    "collapsed": true
   },
   "outputs": [],
   "source": [
    "def LogReg_EVERY_feature(feature,X2, y1):\n",
    "    X2 = X2.reshape((16621,1))\n",
    "    y1 = y1.reshape((16621,1))\n",
    "    X_train, X_test, y_train, y_test = train_test_split(X2, y1, test_size = .3, random_state=25)\n",
    "    \n",
    "    LogReg = LogisticRegression(class_weight = 'balanced')\n",
    "    LogReg.fit(X_train, y_train)\n",
    "    y_pred = LogReg.predict(X_test)\n",
    "    print(pd.Series(y_pred).value_counts())\n",
    "    score = LogReg.score(X2,y1)\n",
    "    print(feature)\n",
    "    print (LogReg.coef_)\n",
    "    print(score)\n",
    "    # generate evaluation metrics\n",
    "    print(metrics.accuracy_score(y_test, y_pred))"
   ]
  },
  {
   "cell_type": "code",
   "execution_count": 31,
   "metadata": {},
   "outputs": [
    {
     "name": "stderr",
     "output_type": "stream",
     "text": [
      "C:\\Users\\kim\\Anaconda3\\lib\\site-packages\\sklearn\\utils\\validation.py:526: DataConversionWarning: A column-vector y was passed when a 1d array was expected. Please change the shape of y to (n_samples, ), for example using ravel().\n",
      "  y = column_or_1d(y, warn=True)\n"
     ]
    },
    {
     "name": "stdout",
     "output_type": "stream",
     "text": [
      "1    4090\n",
      "0     897\n",
      "dtype: int64\n",
      "Gender\n",
      "[[-0.03005396]]\n",
      "0.346970699717\n",
      "0.355524363345\n",
      "0    4987\n",
      "dtype: int64\n",
      "Masters\n",
      "[[ 0.]]\n",
      "0.745262017929\n",
      "0.729697212753\n",
      "0    4987\n",
      "dtype: int64\n",
      "PhD\n",
      "[[ 0.]]\n",
      "0.745262017929\n",
      "0.729697212753\n",
      "0    4987\n",
      "dtype: int64\n",
      "Bachelors\n",
      "[[ 0.]]\n",
      "0.745262017929\n",
      "0.729697212753\n",
      "1    4761\n",
      "0     226\n",
      "dtype: int64\n",
      "Some\n",
      "[[-0.31827695]]\n",
      "0.283376451477\n",
      "0.297573691598\n",
      "0    4847\n",
      "1     140\n",
      "dtype: int64\n",
      "Professional\n",
      "[[ 0.04088958]]\n",
      "0.734131520366\n",
      "0.722879486665\n",
      "1    4900\n",
      "0      87\n",
      "dtype: int64\n",
      "HighSchool\n",
      "[[-0.49269549]]\n",
      "0.264544852897\n",
      "0.280529376379\n",
      "0    4955\n",
      "1      32\n",
      "dtype: int64\n",
      "NA\n",
      "[[ 0.36808691]]\n",
      "0.743096083268\n",
      "0.726488871065\n",
      "0    3697\n",
      "1    1290\n",
      "dtype: int64\n",
      "CS\n",
      "[[ 0.23087591]]\n",
      "0.633475723482\n",
      "0.629436534991\n",
      "0    4279\n",
      "1     708\n",
      "dtype: int64\n",
      "MATH\n",
      "[[ 0.3980798]]\n",
      "0.697370795981\n",
      "0.680368959294\n",
      "1    4621\n",
      "0     366\n",
      "dtype: int64\n",
      "ENG\n",
      "[[-0.04473751]]\n",
      "0.294386619337\n",
      "0.301584118709\n",
      "0    4608\n",
      "1     379\n",
      "dtype: int64\n",
      "EE\n",
      "[[ 0.22565557]]\n",
      "0.712772998015\n",
      "0.699418488069\n",
      "0    4727\n",
      "1     260\n",
      "dtype: int64\n",
      "Other\n",
      "[[ 0.0084278]]\n",
      "0.720173274773\n",
      "0.704832564668\n",
      "0    4707\n",
      "1     280\n",
      "dtype: int64\n",
      "PHY\n",
      "[[ 0.23843997]]\n",
      "0.723843330726\n",
      "0.703629436535\n",
      "0    4784\n",
      "1     203\n",
      "dtype: int64\n",
      "INF\n",
      "[[ 0.06370089]]\n",
      "0.726851573311\n",
      "0.715460196511\n",
      "1    4836\n",
      "0     151\n",
      "dtype: int64\n",
      "SOC\n",
      "[[-0.01863159]]\n",
      "0.269959689549\n",
      "0.282534589934\n",
      "0    4909\n",
      "1      78\n",
      "dtype: int64\n",
      "BIO\n",
      "[[ 0.3614314]]\n",
      "0.739125203056\n",
      "0.723280529376\n",
      "0    4912\n",
      "1      75\n",
      "dtype: int64\n",
      "MIS\n",
      "[[ 0.35684063]]\n",
      "0.739666686722\n",
      "0.72267896531\n",
      "1    4936\n",
      "0      51\n",
      "dtype: int64\n",
      "HUM\n",
      "[[-0.46638616]]\n",
      "0.262800072198\n",
      "0.277722077401\n",
      "0    4939\n",
      "1      48\n",
      "dtype: int64\n",
      "HS\n",
      "[[ 0.57250183]]\n",
      "0.743096083268\n",
      "0.727691999198\n",
      "0    4951\n",
      "1      36\n",
      "dtype: int64\n",
      "PSY\n",
      "[[ 0.37558257]]\n",
      "0.742193610493\n",
      "0.726488871065\n",
      "1    4966\n",
      "0      21\n",
      "dtype: int64\n",
      "MN\n",
      "[[-0.33319676]]\n",
      "0.257144576139\n",
      "0.272909564869\n",
      "1    4971\n",
      "0      16\n",
      "dtype: int64\n",
      "FA\n",
      "[[-0.36870355]]\n",
      "0.25684375188\n",
      "0.272308000802\n"
     ]
    }
   ],
   "source": [
    "LogReg_EVERY_feature('Gender', features['Gender'].as_matrix(), features['DataScientist'].as_matrix())\n",
    "LogReg_EVERY_feature('Masters', features['Masters'].as_matrix(), features['DataScientist'].as_matrix())\n",
    "LogReg_EVERY_feature('PhD', features['PhD'].as_matrix(), features['DataScientist'].as_matrix())\n",
    "LogReg_EVERY_feature('Bachelors', features['Bachelors'].as_matrix(), features['DataScientist'].as_matrix())\n",
    "LogReg_EVERY_feature('Some', features['Some'].as_matrix(), features['DataScientist'].as_matrix())\n",
    "LogReg_EVERY_feature('Professional',features['Professional'].as_matrix(), features['DataScientist'].as_matrix())\n",
    "LogReg_EVERY_feature('HighSchool', features['HighSchool'].as_matrix(), features['DataScientist'].as_matrix())\n",
    "LogReg_EVERY_feature('NA', features['NA'].as_matrix(), features['DataScientist'].as_matrix())\n",
    "LogReg_EVERY_feature('CS', features['CS'].as_matrix(), features['DataScientist'].as_matrix())\n",
    "LogReg_EVERY_feature('MATH', features['MATH'].as_matrix(), features['DataScientist'].as_matrix())\n",
    "LogReg_EVERY_feature('ENG', features['ENG'].as_matrix(), features['DataScientist'].as_matrix())\n",
    "LogReg_EVERY_feature('EE', features['EE'].as_matrix(), features['DataScientist'].as_matrix())\n",
    "LogReg_EVERY_feature('Other', features['Other'].as_matrix(), features['DataScientist'].as_matrix())\n",
    "LogReg_EVERY_feature('PHY', features['PHY'].as_matrix(), features['DataScientist'].as_matrix())\n",
    "LogReg_EVERY_feature('INF', features['INF'].as_matrix(), features['DataScientist'].as_matrix())\n",
    "LogReg_EVERY_feature('SOC', features['SOC'].as_matrix(), features['DataScientist'].as_matrix())\n",
    "LogReg_EVERY_feature('BIO', features['BIO'].as_matrix(), features['DataScientist'].as_matrix())\n",
    "LogReg_EVERY_feature('MIS', features['MIS'].as_matrix(), features['DataScientist'].as_matrix())\n",
    "LogReg_EVERY_feature('HUM', features['HUM'].as_matrix(), features['DataScientist'].as_matrix())\n",
    "LogReg_EVERY_feature('HS', features['HS'].as_matrix(), features['DataScientist'].as_matrix())\n",
    "LogReg_EVERY_feature('PSY', features['PSY'].as_matrix(), features['DataScientist'].as_matrix())\n",
    "LogReg_EVERY_feature('MN', features['NM'].as_matrix(), features['DataScientist'].as_matrix())\n",
    "LogReg_EVERY_feature('FA', features['FA'].as_matrix(), features['DataScientist'].as_matrix())"
   ]
  },
  {
   "cell_type": "code",
   "execution_count": null,
   "metadata": {
    "collapsed": true
   },
   "outputs": [],
   "source": []
  }
 ],
 "metadata": {
  "kernelspec": {
   "display_name": "Python 3",
   "language": "python",
   "name": "python3"
  },
  "language_info": {
   "codemirror_mode": {
    "name": "ipython",
    "version": 3
   },
   "file_extension": ".py",
   "mimetype": "text/x-python",
   "name": "python",
   "nbconvert_exporter": "python",
   "pygments_lexer": "ipython3",
   "version": "3.6.1"
  }
 },
 "nbformat": 4,
 "nbformat_minor": 2
}
